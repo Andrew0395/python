{
 "cells": [
  {
   "cell_type": "code",
   "execution_count": null,
   "metadata": {},
   "outputs": [],
   "source": [
    "import os\n",
    "import csv\n",
    "root = os.path.abspath('./')\n",
    "directory = os.path.join(root,\"csv_data\")\n",
    "print(\"目前存檔的檔案:\")\n",
    "print(os.listdir(directory))\n",
    "\n",
    "\n",
    "fileName = input(\"您要載入的檔案是:\")\n",
    "filePath = os.path.join(root,\"csv_data\",fileName)\n",
    "with open(filePath,encoding='utf-8',newline='') as file:\n",
    "    csv_reader = csv.reader(file)\n",
    "    for line in csv_reader:\n",
    "        print(line)"
   ]
  }
 ],
 "metadata": {
  "language_info": {
   "name": "python"
  },
  "orig_nbformat": 4
 },
 "nbformat": 4,
 "nbformat_minor": 2
}
