{
 "cells": [
  {
   "cell_type": "code",
   "execution_count": null,
   "metadata": {},
   "outputs": [],
   "source": [
    "score1 = [89, 79, 68, 92, 58]\n",
    "score2 = [98, 67, 75, 83, 71]\n",
    "score3 = [78, 97, 84, 73, 92]\n",
    "\n",
    "students = [score1, score2, score3] #建立\n",
    "for student in students: #取出第2維的資料\n",
    "    print(student)"
   ]
  },
  {
   "cell_type": "code",
   "execution_count": null,
   "metadata": {},
   "outputs": [],
   "source": [
    "import random\n",
    "score = []\n",
    "for _ in range(5):    \n",
    "    score.append(random.randint(50, 100))\n",
    "score"
   ]
  },
  {
   "cell_type": "code",
   "execution_count": null,
   "metadata": {},
   "outputs": [],
   "source": [
    "import random\n",
    "#list comprehension\n",
    "score = [random.randint(50, 100) for _ in range(5)]\n",
    "score"
   ]
  },
  {
   "cell_type": "code",
   "execution_count": null,
   "metadata": {},
   "outputs": [],
   "source": [
    "import random\n",
    "def get_all_names() -> list[str]:\n",
    "    with open('names.txt',mode='r',encoding='utf-8') as file:\n",
    "        names:list[str] = []\n",
    "        for line in file:\n",
    "            #names.append(line)\n",
    "            line = line.rstrip('\\n')\n",
    "            names.append(line)\n",
    "        return names\n",
    "    \n",
    "def get_random_names(nums:int) -> list[str]:\n",
    "    names = get_all_names()\n",
    "    random_list = random.choices(names,k=nums)\n",
    "    return random_list\n",
    "\n",
    "names = get_random_names(nums=8)\n",
    "print(names)"
   ]
  },
  {
   "cell_type": "code",
   "execution_count": null,
   "metadata": {},
   "outputs": [],
   "source": [
    "import random\n",
    "\n",
    "def get_students(student_num:int) -> list[list]:    \n",
    "    students:list[list] = [] #建立第一維list\n",
    "    names = get_random_names(nums=student_num)\n",
    "    for i in range(student_num):\n",
    "        one_student = [random.randint(50, 100) for _ in range(5)] #建立第2維list\n",
    "        name = names[i]\n",
    "        one_student = [name] + one_student\n",
    "        students.append(one_student)\n",
    "    return students\n",
    "\n",
    "get_students(student_num=3)"
   ]
  },
  {
   "cell_type": "code",
   "execution_count": null,
   "metadata": {},
   "outputs": [],
   "source": [
    "['徐國堂'] + [57, 98, 76, 65, 72]"
   ]
  },
  {
   "cell_type": "code",
   "execution_count": null,
   "metadata": {},
   "outputs": [],
   "source": [
    "import os\n",
    "import student\n",
    "\n",
    "file_name = input(\"請輸入要存檔的檔案名稱:\")\n",
    "root = os.path.abspath(path=\"./\")\n",
    "filePath = os.path.join(root,'csv_data',f'{file_name}.csv')\n",
    "\n",
    "students = student.get_students(student_num=30)\n",
    "students"
   ]
  }
 ],
 "metadata": {
  "language_info": {
   "name": "python"
  },
  "orig_nbformat": 4
 },
 "nbformat": 4,
 "nbformat_minor": 2
}
