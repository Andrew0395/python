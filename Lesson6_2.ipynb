{
 "cells": [
  {
   "cell_type": "code",
   "execution_count": null,
   "metadata": {},
   "outputs": [],
   "source": [
    "for x in range(5):\n",
    "    print(x)"
   ]
  },
  {
   "cell_type": "code",
   "execution_count": null,
   "metadata": {},
   "outputs": [],
   "source": [
    "for x in range(15,20):\n",
    "    print(x)"
   ]
  },
  {
   "cell_type": "code",
   "execution_count": null,
   "metadata": {},
   "outputs": [],
   "source": [
    "for x in range(1,10,2):\n",
    "    print(x)"
   ]
  },
  {
   "cell_type": "code",
   "execution_count": null,
   "metadata": {},
   "outputs": [],
   "source": [
    "#1~100的加總是多少\n",
    "total = 0\n",
    "for x in range(1,101):\n",
    "    total += x\n",
    "\n",
    "print(f\"1~100的加總是{total}\")"
   ]
  },
  {
   "cell_type": "code",
   "execution_count": null,
   "metadata": {},
   "outputs": [],
   "source": [
    "#1~100內的偶數加總和奇數加總各是多少?\n",
    "oddTotal = 0\n",
    "evenTotal = 0\n",
    "for x in range(1,101):\n",
    "    if x % 2 == 0:\n",
    "        evenTotal += x\n",
    "    else:\n",
    "        oddTotal += x\n",
    "\n",
    "print(f\"偶數總合是:{evenTotal}\")\n",
    "print(f\"奇數數總合是:{oddTotal}\")"
   ]
  },
  {
   "cell_type": "code",
   "execution_count": null,
   "metadata": {},
   "outputs": [],
   "source": [
    "start = int(input(\"請輸入起始值\"))\n",
    "end = int(input(\"請輸入最終值\"))\n",
    "\n",
    "oddTotal = 0\n",
    "evenTotal = 0\n",
    "for x in range(start,end+1):\n",
    "    if x % 2 == 0:\n",
    "        evenTotal += x\n",
    "    else:\n",
    "        oddTotal += x\n",
    "\n",
    "print(f\"{start}~{end}偶數總合是:{evenTotal:,}\")\n",
    "print(f\"{start}~{end}奇數數總合是:{oddTotal:,}\")"
   ]
  },
  {
   "cell_type": "code",
   "execution_count": null,
   "metadata": {},
   "outputs": [],
   "source": [
    "for i in range(1,10):    \n",
    "    for j in range(1,10):\n",
    "        print(f\"{i:2d}*{j:2d} ={i*j:2d}\",end='  ')\n",
    "    print()"
   ]
  },
  {
   "cell_type": "code",
   "execution_count": null,
   "metadata": {},
   "outputs": [],
   "source": [
    "print(1, 2, 3, 4, 5, 6,sep='-',end='.\\n')"
   ]
  },
  {
   "cell_type": "code",
   "execution_count": null,
   "metadata": {},
   "outputs": [],
   "source": [
    "#break 跳出迴圈\n",
    "for i in range(10):\n",
    "    if i==5:\n",
    "        break\n",
    "    print(i)"
   ]
  },
  {
   "cell_type": "code",
   "execution_count": 7,
   "metadata": {},
   "outputs": [
    {
     "name": "stdout",
     "output_type": "stream",
     "text": [
      "2 3 4 5 6 7 8 9 10 11 12 13 14 15 16 17 18 19 20 21 22 23 24 25 26 27 28 29 30 31 32 33 34 35 36 37 38 39 40 41 42 43 44 45 46 47 48 49 50 51 52 53 54 55 56 57 58 59 60 61 62 63 64 65 66 67 68 69 70 71 72 73 74 75 76 77 78 79 80 81 82 83 84 85 86 87 88 89 90 91 92 93 94 95 96 97 98 99 100 \n"
     ]
    }
   ],
   "source": [
    "for i in range(1, 101):\n",
    "    if i == 1:\n",
    "        continue\n",
    "    print(i, end=' ')\n",
    "print()"
   ]
  },
  {
   "cell_type": "code",
   "execution_count": 8,
   "metadata": {},
   "outputs": [
    {
     "name": "stdout",
     "output_type": "stream",
     "text": [
      "2 3 5 7 11 13 17 19 23 29 31 37 41 43 47 53 59 61 67 71 73 79 83 89 97 \n"
     ]
    }
   ],
   "source": [
    "#求1~100的質數\n",
    "for i in range(1, 101):\n",
    "    is_prime = True\n",
    "    if i == 1:\n",
    "        continue\n",
    "    for j in range(2,i):\n",
    "        if i % j == 0:\n",
    "            is_prime = False\n",
    "            break\n",
    "    if is_prime:\n",
    "        print(i, end=' ')\n",
    "print()"
   ]
  }
 ],
 "metadata": {
  "kernelspec": {
   "display_name": "Python 3",
   "language": "python",
   "name": "python3"
  },
  "language_info": {
   "codemirror_mode": {
    "name": "ipython",
    "version": 3
   },
   "file_extension": ".py",
   "mimetype": "text/x-python",
   "name": "python",
   "nbconvert_exporter": "python",
   "pygments_lexer": "ipython3",
   "version": "3.10.12"
  },
  "orig_nbformat": 4
 },
 "nbformat": 4,
 "nbformat_minor": 2
}
