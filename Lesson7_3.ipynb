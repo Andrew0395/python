{
 "cells": [
  {
   "cell_type": "code",
   "execution_count": null,
   "metadata": {},
   "outputs": [],
   "source": [
    "import random\n",
    "\n",
    "#定義function\n",
    "def play_game():\n",
    "    min = 1\n",
    "    max = 100\n",
    "    target = random.randint(min,max)\n",
    "    print(target)\n",
    "    count = 0\n",
    "    print(\"=============猜數字遊戲==============\\n\\n\")\n",
    "    while True:\n",
    "        keyin = int(input(f\"猜數字範範圍{min}~{max}:\"))\n",
    "        count += 1\n",
    "        if keyin >= min and keyin <= max:\n",
    "            if(keyin == target):\n",
    "                print(f\"賓果!猜對了, 答案是:{target}\")\n",
    "                print(f\"您猜了{count}次\")\n",
    "                break\n",
    "            elif keyin > target:\n",
    "                print(\"再小一點\")\n",
    "                max = keyin - 1\n",
    "                \n",
    "            elif keyin < target:\n",
    "                print(\"再大一點\")\n",
    "                min = keyin + 1\n",
    "                \n",
    "            print(f\"您已經猜了{count}次\")         \n",
    "        else:\n",
    "            print(\"請輸入提示範圍內的數字\")\n",
    "\n",
    "while True:    \n",
    "    #呼叫function\n",
    "    play_game()\n",
    "    play_again = input(\"還要繼續嗎?(y,n)\")\n",
    "    if play_again == 'n':\n",
    "        break\n",
    "print(\"遊戲結束\")  "
   ]
  }
 ],
 "metadata": {
  "language_info": {
   "name": "python"
  },
  "orig_nbformat": 4
 },
 "nbformat": 4,
 "nbformat_minor": 2
}
